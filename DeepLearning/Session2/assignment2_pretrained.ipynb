{
 "cells": [
  {
   "cell_type": "markdown",
   "metadata": {},
   "source": [
    "# Using pre-trained NN"
   ]
  },
  {
   "cell_type": "code",
   "execution_count": 108,
   "metadata": {},
   "outputs": [],
   "source": [
    "import numpy as np\n",
    "import tensorflow as tf\n",
    "import keras\n",
    "from IPython.display import Image\n",
    "from matplotlib import pyplot as plt\n",
    "from imageio import imread\n",
    "import pickle"
   ]
  },
  {
   "cell_type": "markdown",
   "metadata": {},
   "source": [
    "# Model Zoo\n",
    "* https://github.com/keras-team/keras/tree/master/keras/applications\n",
    "* More models within the community\n",
    "* Pick model, copy init, download weights\n",
    "* Here we proceed with vgg16"
   ]
  },
  {
   "cell_type": "raw",
   "metadata": {},
   "source": [
    "# download vgg16 weights\n",
    "!wget https://github.com/fchollet/deep-learning-models/releases/download/v0.1/vgg16_weights_tf_dim_ordering_tf_kernels.h5"
   ]
  },
  {
   "cell_type": "markdown",
   "metadata": {},
   "source": [
    "#### Very Deep Convolutional Networks for Large-Scale Visual Recognition\n",
    "VGG at Oxford: http://www.robots.ox.ac.uk/~vgg/research/very_deep/\n",
    "<br>\n",
    "### [layer configuration](https://gist.githubusercontent.com/ksimonyan/211839e770f7b538e2d8/raw/0067c9b32f60362c74f4c445a080beed06b07eb3/VGG_ILSVRC_16_layers_deploy.prototxt)\n",
    "Build a model based on **layer configuration** below"
   ]
  },
  {
   "cell_type": "code",
   "execution_count": 3,
   "metadata": {},
   "outputs": [],
   "source": [
    "from keras.layers import Input\n",
    "from keras.layers import Conv2D\n",
    "from keras.layers import MaxPool2D\n",
    "from keras.layers import Activation\n",
    "from keras.layers import Dense\n",
    "from keras.layers import Dropout\n",
    "from keras.layers import Flatten # You may need this :)"
   ]
  },
  {
   "cell_type": "code",
   "execution_count": 4,
   "metadata": {},
   "outputs": [],
   "source": [
    "img_input = Input(shape=(224, 224, 3), name=\"input\")\n",
    "#first\n",
    "x = Conv2D(64, 3, padding = \"same\", name = \"conv1_1\")(img_input)\n",
    "x = Activation('relu', name = 'relu1_1')(x)\n",
    "x = Conv2D(64, 3, padding = \"same\", name = \"conv1_2\")(x)\n",
    "x = Activation('relu', name = 'relu1_2')(x)\n",
    "x = MaxPool2D((2,2),(2,2),padding = 'same', name = 'pool1')(x)\n",
    "\n",
    "#second\n",
    "x = Conv2D(128, 3, padding = \"same\", name = \"conv2_1\")(x)\n",
    "x = Activation('relu', name = 'relu2_1')(x)\n",
    "x = Conv2D(128, 3, padding = \"same\", name = \"conv2_2\")(x)\n",
    "x = Activation('relu', name = 'relu2_2')(x)\n",
    "x = MaxPool2D((2,2),(2,2),padding = 'same', name = 'pool2')(x)\n",
    "\n",
    "#thrid\n",
    "x = Conv2D(256, 3, padding = \"same\", name = \"conv3_1\")(x)\n",
    "x = Activation('relu', name = 'relu3_1')(x)\n",
    "x = Conv2D(256, 3, padding = \"same\", name = \"conv3_2\")(x)\n",
    "x = Activation('relu', name = 'relu3_2')(x)\n",
    "x = Conv2D(256, 3, padding = \"same\", name = \"conv3_3\")(x)\n",
    "x = Activation('relu', name = 'relu3_3')(x)\n",
    "x = MaxPool2D((2,2),(2,2),padding = 'same', name = 'pool3')(x)\n",
    "\n",
    "#forth\n",
    "x = Conv2D(512, 3, padding = \"same\", name = \"conv4_1\")(x)\n",
    "x = Activation('relu', name = 'relu4_1')(x)\n",
    "x = Conv2D(512, 3, padding = \"same\", name = \"conv4_2\")(x)\n",
    "x = Activation('relu', name = 'relu4_2')(x)\n",
    "x = Conv2D(512, 3, padding = \"same\", name = \"conv4_3\")(x)\n",
    "x = Activation('relu', name = 'relu4_3')(x)\n",
    "x = MaxPool2D((2,2),(2,2),padding = 'same', name = 'pool4')(x)\n",
    "\n",
    "#fifth\n",
    "x = Conv2D(512, 3, padding = \"same\", name = \"conv5_1\")(x)\n",
    "x = Activation('relu', name = 'relu5_1')(x)\n",
    "x = Conv2D(512, 3, padding = \"same\", name = \"conv5_2\")(x)\n",
    "x = Activation('relu', name = 'relu5_2')(x)\n",
    "x = Conv2D(512, 3, padding = \"same\", name = \"conv5_3\")(x)\n",
    "x = Activation('relu', name = 'relu5_3')(x)\n",
    "x = MaxPool2D((2,2),(2,2),padding = 'same', name = 'pool5')(x)\n",
    "\n",
    "#flatten\n",
    "x = Flatten()(x)\n",
    "\n",
    "#Denses\n",
    "x = Dense(4096, name = 'fc6')(x)\n",
    "x = Activation('relu', name = 'relu6')(x)\n",
    "x = Dropout(0.5, name = 'drop6')(x)\n",
    "\n",
    "x = Dense(4096, name = 'fc7')(x)\n",
    "x = Activation('relu', name = 'relu7')(x)\n",
    "x = Dropout(0.5, name = 'drop7')(x)\n",
    "\n",
    "x = Dense(1000, name = 'fc8')(x)\n",
    "x = Activation(\"softmax\", name = \"prob\")(x)\n",
    "\n",
    "model = keras.Model(img_input, x)"
   ]
  },
  {
   "cell_type": "markdown",
   "metadata": {},
   "source": [
    "You have to implement two functions in the cell below.\n",
    "\n",
    "Preprocess function should take the image with shape (w, h, 3) and transform it into a tensor with shape (1, 224, 224, 3). Without this transformation, vgg16 won't be able to digest input image. \n",
    "Additionally, your preprocessing function have to rearrange channels RGB -> BGR and subtract mean values from every channel."
   ]
  },
  {
   "cell_type": "code",
   "execution_count": 5,
   "metadata": {},
   "outputs": [
    {
     "name": "stdout",
     "output_type": "stream",
     "text": [
      "0.0\n"
     ]
    }
   ],
   "source": [
    "MEAN_VALUES = np.array([104, 117, 123])\n",
    "IMAGE_W = 224\n",
    "\n",
    "def preprocess(img):\n",
    "    img_new = np.array(img).astype(np.float32)\n",
    "    img_new[:,:,0], img_new[:,:,2] = img[:,:,2], img[:,:,0]\n",
    "    for i in range(3):\n",
    "        img_new[:,:,i] -= MEAN_VALUES[i]\n",
    "    \n",
    "    img_new = img_new[np.newaxis]\n",
    "    return img_new\n",
    "\n",
    "def deprocess(img):\n",
    "    img = img.reshape(img.shape[1:])\n",
    "    for i in range(3):\n",
    "        img[:,:, i] += MEAN_VALUES[i]\n",
    "    return img[:, :, :: -1].astype(np.uint8)\n",
    "\n",
    "img = (np.random.rand(IMAGE_W, IMAGE_W, 3) * 256).astype(np.uint8)\n",
    "\n",
    "print(np.linalg.norm(deprocess(preprocess(img)) - img))"
   ]
  },
  {
   "cell_type": "markdown",
   "metadata": {},
   "source": [
    "If your implementation is correct, the number above will be small, because deprocess function is the inverse of preprocess function"
   ]
  },
  {
   "cell_type": "markdown",
   "metadata": {},
   "source": [
    "### Deploy the network"
   ]
  },
  {
   "cell_type": "code",
   "execution_count": 6,
   "metadata": {},
   "outputs": [
    {
     "name": "stderr",
     "output_type": "stream",
     "text": [
      "/home/nitrov/anaconda3/lib/python3.6/site-packages/h5py/_hl/dataset.py:313: H5pyDeprecationWarning: dataset.value has been deprecated. Use dataset[()] instead.\n",
      "  \"Use dataset[()] instead.\", H5pyDeprecationWarning)\n"
     ]
    }
   ],
   "source": [
    "# load vgg16 weights\n",
    "import h5py\n",
    "with h5py.File(\"vgg16_weights_tf_dim_ordering_tf_kernels.h5\", \"r\") as f:\n",
    "    vgg16_weights = {k1: {k2:v2.value for k2, v2 in v1.items()} \n",
    "                     for k1, v1 in f.items() if len(v1)>0}"
   ]
  },
  {
   "cell_type": "code",
   "execution_count": 7,
   "metadata": {
    "scrolled": true
   },
   "outputs": [
    {
     "data": {
      "text/plain": [
       "[[(3, 3, 3, 64), (64,)],\n",
       " [(3, 3, 64, 64), (64,)],\n",
       " [(3, 3, 64, 128), (128,)],\n",
       " [(3, 3, 128, 128), (128,)],\n",
       " [(3, 3, 128, 256), (256,)],\n",
       " [(3, 3, 256, 256), (256,)],\n",
       " [(3, 3, 256, 256), (256,)],\n",
       " [(3, 3, 256, 512), (512,)],\n",
       " [(3, 3, 512, 512), (512,)],\n",
       " [(3, 3, 512, 512), (512,)],\n",
       " [(3, 3, 512, 512), (512,)],\n",
       " [(3, 3, 512, 512), (512,)],\n",
       " [(3, 3, 512, 512), (512,)],\n",
       " [(25088, 4096), (4096,)],\n",
       " [(4096, 4096), (4096,)],\n",
       " [(4096, 1000), (1000,)]]"
      ]
     },
     "execution_count": 7,
     "metadata": {},
     "output_type": "execute_result"
    }
   ],
   "source": [
    "[[y.shape for y in x.values()] for x in vgg16_weights.values()]"
   ]
  },
  {
   "cell_type": "markdown",
   "metadata": {},
   "source": [
    "Now we should put the weights into their places:"
   ]
  },
  {
   "cell_type": "code",
   "execution_count": 8,
   "metadata": {},
   "outputs": [],
   "source": [
    "vgg_weights = []\n",
    "[[vgg_weights.append(y) for y in x.values()] for x in vgg16_weights.values()]\n",
    "model.set_weights(vgg_weights)"
   ]
  },
  {
   "cell_type": "code",
   "execution_count": 9,
   "metadata": {},
   "outputs": [
    {
     "name": "stdout",
     "output_type": "stream",
     "text": [
      "ostrich, Struthio camelus\n"
     ]
    }
   ],
   "source": [
    "# classes' names are stored here\n",
    "with open(\"classes.txt\", \"r\") as f:\n",
    "    classes = f.read().splitlines()\n",
    "# for example, 10th class is ostrich:\n",
    "print(classes[9])"
   ]
  },
  {
   "cell_type": "markdown",
   "metadata": {},
   "source": [
    "### Sanity check\n",
    "Lets check that out pretrained network is working. We have sample image of a \"albatross\" and lets check that out network predicts it well."
   ]
  },
  {
   "cell_type": "code",
   "execution_count": 10,
   "metadata": {},
   "outputs": [
    {
     "data": {
      "image/png": "[encoded data removed]",
      "text/plain": [
       "<Figure size 432x288 with 1 Axes>"
      ]
     },
     "metadata": {
      "needs_background": "light"
     },
     "output_type": "display_data"
    },
    {
     "name": "stdout",
     "output_type": "stream",
     "text": [
      "note that image array type is uint8\n",
      "top-5 classes are:\n",
      "0.996280\talbatross\n",
      "0.003715\tgoose\n",
      "0.000001\tdrake\n",
      "0.000001\twhite stork\n",
      "0.000001\tspoonbill\n"
     ]
    }
   ],
   "source": [
    "img = imread('albatross.jpg')\n",
    "plt.imshow(img)\n",
    "plt.show()\n",
    "print(\"note that image array type is\", img.dtype)\n",
    "\n",
    "p = model.predict(preprocess(np.array(img)))\n",
    "\n",
    "labels = p.ravel().argsort()[-1:-6:-1]\n",
    "print('top-5 classes are:')\n",
    "for l in labels:\n",
    "    print('%3f\\t%s' % (p.ravel()[l], classes[l].split(',')[0]))"
   ]
  },
  {
   "cell_type": "markdown",
   "metadata": {},
   "source": [
    "# Grand-quest: Dogs Vs Cats\n",
    "* original competition\n",
    "* https://www.kaggle.com/c/dogs-vs-cats\n",
    "* 25k JPEG images of various size, 2 classes (guess what)\n",
    "\n",
    "### Your main objective\n",
    "* In this seminar your goal is to fine-tune a pre-trained model to distinguish between the two rivaling animals\n",
    "* The first step is to just reuse some network layer as features"
   ]
  },
  {
   "cell_type": "code",
   "execution_count": 11,
   "metadata": {},
   "outputs": [],
   "source": [
    "from keras import backend as K\n",
    "featurized =  K.function([model.layers[0].input], [model.layers[-4].output])"
   ]
  },
  {
   "cell_type": "raw",
   "metadata": {},
   "source": [
    "#extract features from images\n",
    "X = []\n",
    "Y = []\n",
    "\n",
    "#this may be a tedious process. If so, store the results in some pickle and re-use them.\n",
    "for fname in tqdm(os.listdir('data/train/')):\n",
    "    y = fname.startswith(\"cat\")\n",
    "    img = imread(\"data/train/\"+fname)\n",
    "    img = preprocess(imresize(img,(IMAGE_W,IMAGE_W)))\n",
    "    feature = featurized((img,))[0][0]\n",
    "    Y.append(y)\n",
    "    X.append(feature)"
   ]
  },
  {
   "cell_type": "raw",
   "metadata": {},
   "source": [
    "Y = np.array(Y*1)\n",
    "X = np.array(X)\n",
    "X_test = np.array(X_test)"
   ]
  },
  {
   "cell_type": "raw",
   "metadata": {},
   "source": [
    "np.save('X.npy', X)\n",
    "np.save('X_test.npy', X_test)\n",
    "np.save('Y.npy', Y)"
   ]
  },
  {
   "cell_type": "code",
   "execution_count": 12,
   "metadata": {},
   "outputs": [],
   "source": [
    "X = np.load('X.npy')\n",
    "X_test = np.load('X_test.npy')\n",
    "Y = np.load('Y.npy')"
   ]
  },
  {
   "cell_type": "code",
   "execution_count": 13,
   "metadata": {},
   "outputs": [],
   "source": [
    "dims = int(X.shape[1]**0.5)"
   ]
  },
  {
   "cell_type": "code",
   "execution_count": 14,
   "metadata": {},
   "outputs": [
    {
     "name": "stderr",
     "output_type": "stream",
     "text": [
      "/home/nitrov/anaconda3/lib/python3.6/site-packages/sklearn/preprocessing/_encoders.py:414: FutureWarning: The handling of integer data will change in version 0.22. Currently, the categories are determined based on the range [0, max(values)], while in the future they will be determined based on the unique values.\n",
      "If you want the future behaviour and silence this warning, you can specify \"categories='auto'\".\n",
      "In case you used a LabelEncoder before this OneHotEncoder to convert the categories to integers, then you can now use the OneHotEncoder directly.\n",
      "  warnings.warn(msg, FutureWarning)\n"
     ]
    }
   ],
   "source": [
    "X = X.reshape(X.shape[0], 1, dims, dims)\n",
    "from sklearn.preprocessing import OneHotEncoder\n",
    "enc = OneHotEncoder()\n",
    "one_hot_y = np.array(enc.fit_transform(Y.reshape(-1, 1)).todense())"
   ]
  },
  {
   "cell_type": "code",
   "execution_count": 15,
   "metadata": {},
   "outputs": [],
   "source": [
    "X_train = X[:23000]\n",
    "y_train = one_hot_y[:23000]\n",
    "X_val = X[23000:]\n",
    "y_val = one_hot_y[23000:]"
   ]
  },
  {
   "cell_type": "markdown",
   "metadata": {},
   "source": [
    "# for starters\n",
    "* Train sklearn model, evaluate validation accuracy (should be >80%"
   ]
  },
  {
   "cell_type": "markdown",
   "metadata": {},
   "source": [
    "__load our dakka__\n",
    "![img](https://s-media-cache-ak0.pinimg.com/564x/80/a1/81/80a1817a928744a934a7d32e7c03b242.jpg)"
   ]
  },
  {
   "cell_type": "code",
   "execution_count": 75,
   "metadata": {},
   "outputs": [],
   "source": [
    "from sklearn.ensemble import RandomForestClassifier,ExtraTreesClassifier,GradientBoostingClassifier,AdaBoostClassifier\n",
    "from sklearn.linear_model import LogisticRegression, RidgeClassifier\n",
    "from sklearn.svm import SVC\n",
    "from sklearn.tree import DecisionTreeClassifier"
   ]
  },
  {
   "cell_type": "code",
   "execution_count": 76,
   "metadata": {},
   "outputs": [],
   "source": [
    "random_forest = RandomForestClassifier()\n",
    "ada_boost = AdaBoostClassifier()"
   ]
  },
  {
   "cell_type": "code",
   "execution_count": 84,
   "metadata": {},
   "outputs": [
    {
     "data": {
      "text/plain": [
       "RandomForestClassifier(bootstrap=True, class_weight=None, criterion='gini',\n",
       "                       max_depth=None, max_features='auto', max_leaf_nodes=None,\n",
       "                       min_impurity_decrease=0.0, min_impurity_split=None,\n",
       "                       min_samples_leaf=1, min_samples_split=2,\n",
       "                       min_weight_fraction_leaf=0.0, n_estimators=10,\n",
       "                       n_jobs=None, oob_score=False, random_state=None,\n",
       "                       verbose=0, warm_start=False)"
      ]
     },
     "execution_count": 84,
     "metadata": {},
     "output_type": "execute_result"
    }
   ],
   "source": [
    "random_forest.fit(X_train, y_train)  "
   ]
  },
  {
   "cell_type": "code",
   "execution_count": 87,
   "metadata": {},
   "outputs": [],
   "source": [
    "val_pred_forest = random_forest.predict(X_val)"
   ]
  },
  {
   "cell_type": "code",
   "execution_count": 88,
   "metadata": {},
   "outputs": [
    {
     "name": "stdout",
     "output_type": "stream",
     "text": [
      "Accuracy on Random Forest is 96.85 %\n"
     ]
    }
   ],
   "source": [
    "from sklearn.metrics import accuracy_score\n",
    "print(\"Accuracy on Random Forest is\", np.around(accuracy_score(y_val, val_pred_forest)*100, 2), \"%\")"
   ]
  },
  {
   "cell_type": "markdown",
   "metadata": {},
   "source": [
    "# Main quest\n",
    "\n",
    "* Get the score improved!\n",
    "\n",
    "No methods are illegal: ensembling, data augmentation, NN hacks. \n",
    "Just don't let test data slip into training.\n",
    "\n",
    "The main requirement is that you implement the NN fine-tuning recipe:\n",
    "### Split the raw image data\n",
    "  * please do train/validation/test instead of just train/test\n",
    "  * reasonable but not optimal split is 20k/2.5k/2.5k or 15k/5k/5k\n",
    "### Choose which vgg layers are you going to use\n",
    "  * Anything but for prob is okay\n",
    "  * Do not forget that vgg16 uses dropout\n",
    "### Build a few layers on top of chosen \"neck\" layers.\n",
    "  * a good idea is to just stack more layers inside the same network\n",
    "  * alternative: stack on top of get_output\n",
    "### Train the newly added layers for some iterations\n",
    "  * you can selectively train some weights by only sending them to your optimizer\n",
    "      * `mysupermegaoptimizer.minimize(loss, var_list=<only_those_weights_i_wanna_train>)`\n",
    "  * it's cruicial to monitor the network performance at this and following steps\n",
    "### Fine-tune the network body\n",
    "  * probably a good idea to SAVE your new network weights now 'cuz it's easy to mess things up.\n",
    "  * Moreover, saving weights periodically is a no-nonsense idea\n",
    "  * even more cruicial to monitor validation performance\n",
    "  * main network body may need a separate, much lower learning rate\n",
    "      * You can have two optimizers: one for old network and one for new network\n",
    "      * `old_net_optimizer.minimize(loss, old_net_weigts)`\n",
    "      * `new_net_optimizer.minimize(loss, new_net_weigts)`\n",
    "### PROFIT!!!\n",
    "  * Evaluate the final score\n",
    "  * Submit to kaggle\n",
    "      * competition page https://www.kaggle.com/c/dogs-vs-cats-redux-kernels-edition\n",
    "      * get test data https://www.kaggle.com/c/dogs-vs-cats-redux-kernels-edition/data\n",
    "  \n",
    "## Some ways to get bonus points\n",
    "* explore other networks from the model zoo\n",
    "* play with architecture\n",
    "* 85%/90%/93%/95%/97% kaggle score (screenshot pls).\n",
    "* data augmentation, prediction-time data augmentation\n",
    "* use any more advanced fine-tuning technique you know/read anywhere\n",
    "* ml hacks that benefit the final score\n"
   ]
  },
  {
   "cell_type": "code",
   "execution_count": 16,
   "metadata": {},
   "outputs": [
    {
     "name": "stdout",
     "output_type": "stream",
     "text": [
      "I can do it!\n"
     ]
    }
   ],
   "source": [
    "print(\"I can do it!\")"
   ]
  },
  {
   "cell_type": "code",
   "execution_count": 26,
   "metadata": {},
   "outputs": [],
   "source": [
    "from keras.layers import Dense , Activation\n",
    "from keras.layers import Dropout\n",
    "from keras.layers import Flatten\n",
    "from keras.constraints import maxnorm\n",
    "from keras.optimizers import Adam\n",
    "from keras.models import Sequential\n",
    "from keras.layers import Conv2D , BatchNormalization\n",
    "from keras.layers import MaxPooling2D\n",
    "from keras.utils import np_utils\n",
    "from keras import backend as K\n",
    "K.set_image_dim_ordering('th')"
   ]
  },
  {
   "cell_type": "code",
   "execution_count": 27,
   "metadata": {},
   "outputs": [],
   "source": [
    "def swish_activation(x):\n",
    "    return (K.sigmoid(x) * x)"
   ]
  },
  {
   "cell_type": "code",
   "execution_count": 28,
   "metadata": {},
   "outputs": [
    {
     "name": "stdout",
     "output_type": "stream",
     "text": [
      "_________________________________________________________________\n",
      "Layer (type)                 Output Shape              Param #   \n",
      "=================================================================\n",
      "conv2d_9 (Conv2D)            (None, 32, 64, 64)        320       \n",
      "_________________________________________________________________\n",
      "conv2d_10 (Conv2D)           (None, 32, 64, 64)        9248      \n",
      "_________________________________________________________________\n",
      "max_pooling2d_5 (MaxPooling2 (None, 32, 32, 32)        0         \n",
      "_________________________________________________________________\n",
      "conv2d_11 (Conv2D)           (None, 64, 32, 32)        18496     \n",
      "_________________________________________________________________\n",
      "conv2d_12 (Conv2D)           (None, 64, 32, 32)        36928     \n",
      "_________________________________________________________________\n",
      "max_pooling2d_6 (MaxPooling2 (None, 64, 16, 16)        0         \n",
      "_________________________________________________________________\n",
      "conv2d_13 (Conv2D)           (None, 96, 16, 16)        55392     \n",
      "_________________________________________________________________\n",
      "conv2d_14 (Conv2D)           (None, 96, 14, 14)        83040     \n",
      "_________________________________________________________________\n",
      "max_pooling2d_7 (MaxPooling2 (None, 96, 7, 7)          0         \n",
      "_________________________________________________________________\n",
      "conv2d_15 (Conv2D)           (None, 128, 7, 7)         110720    \n",
      "_________________________________________________________________\n",
      "conv2d_16 (Conv2D)           (None, 128, 5, 5)         147584    \n",
      "_________________________________________________________________\n",
      "max_pooling2d_8 (MaxPooling2 (None, 128, 2, 2)         0         \n",
      "_________________________________________________________________\n",
      "flatten_3 (Flatten)          (None, 512)               0         \n",
      "_________________________________________________________________\n",
      "dense_3 (Dense)              (None, 64)                32832     \n",
      "_________________________________________________________________\n",
      "dropout_2 (Dropout)          (None, 64)                0         \n",
      "_________________________________________________________________\n",
      "dense_4 (Dense)              (None, 2)                 130       \n",
      "=================================================================\n",
      "Total params: 494,690\n",
      "Trainable params: 494,690\n",
      "Non-trainable params: 0\n",
      "_________________________________________________________________\n",
      "None\n"
     ]
    }
   ],
   "source": [
    "model_feat = Sequential()\n",
    "\n",
    "model_feat.add(Conv2D(32, (3, 3), activation='relu', padding=\"same\", input_shape=(1,dims,dims)))\n",
    "model_feat.add(Conv2D(32, (3, 3), padding=\"same\", activation='relu'))\n",
    "model_feat.add(MaxPooling2D(pool_size=(2, 2)))\n",
    "\n",
    "model_feat.add(Conv2D(64, (3, 3), activation='relu', padding=\"same\"))\n",
    "model_feat.add(Conv2D(64, (3, 3), padding=\"same\", activation='relu'))\n",
    "model_feat.add(MaxPooling2D(pool_size=(2, 2)))\n",
    "\n",
    "model_feat.add(Conv2D(96, (3, 3), dilation_rate=(2, 2), activation='relu', padding=\"same\"))\n",
    "model_feat.add(Conv2D(96, (3, 3), padding=\"valid\", activation='relu'))\n",
    "model_feat.add(MaxPooling2D(pool_size=(2, 2)))\n",
    "\n",
    "model_feat.add(Conv2D(128, (3, 3), dilation_rate=(2, 2), activation='relu', padding=\"same\"))\n",
    "model_feat.add(Conv2D(128, (3, 3), padding=\"valid\", activation='relu'))\n",
    "model_feat.add(MaxPooling2D(pool_size=(2, 2)))\n",
    "\n",
    "model_feat.add(Flatten())\n",
    "\n",
    "model_feat.add(Dense(64, activation=swish_activation))\n",
    "model_feat.add(Dropout(0.4))\n",
    "model_feat.add(Dense(2 , activation='sigmoid'))\n",
    "\n",
    "model_feat.compile(loss='binary_crossentropy',\n",
    "              optimizer='adam',\n",
    "              metrics=['accuracy'])\n",
    "\n",
    "print(model_feat.summary())"
   ]
  },
  {
   "cell_type": "code",
   "execution_count": 29,
   "metadata": {},
   "outputs": [],
   "source": [
    "epochs = 20\n",
    "batch_size = 128\n",
    "learning_rate = 0.0001\n",
    "optimizer = Adam(learning_rate)\n",
    "model_feat.compile(optimizer=optimizer, loss='binary_crossentropy', metrics=['accuracy'])"
   ]
  },
  {
   "cell_type": "code",
   "execution_count": 32,
   "metadata": {},
   "outputs": [
    {
     "name": "stdout",
     "output_type": "stream",
     "text": [
      "Epoch 1/20\n",
      "23000/23000 [==============================] - 429s 19ms/step - loss: 0.1356 - acc: 0.9504\n",
      "Epoch 2/20\n",
      "23000/23000 [==============================] - 406s 18ms/step - loss: 0.0850 - acc: 0.9695\n",
      "Epoch 3/20\n",
      "23000/23000 [==============================] - 395s 17ms/step - loss: 0.0665 - acc: 0.9765\n",
      "Epoch 4/20\n",
      "23000/23000 [==============================] - 312s 14ms/step - loss: 0.0534 - acc: 0.9805\n",
      "Epoch 5/20\n",
      "23000/23000 [==============================] - 312s 14ms/step - loss: 0.0487 - acc: 0.9827\n",
      "Epoch 6/20\n",
      "23000/23000 [==============================] - 313s 14ms/step - loss: 0.0397 - acc: 0.9860\n",
      "Epoch 7/20\n",
      "23000/23000 [==============================] - 313s 14ms/step - loss: 0.0354 - acc: 0.9882\n",
      "Epoch 8/20\n",
      "23000/23000 [==============================] - 320s 14ms/step - loss: 0.0298 - acc: 0.9895\n",
      "Epoch 9/20\n",
      "23000/23000 [==============================] - 314s 14ms/step - loss: 0.0228 - acc: 0.9924\n",
      "Epoch 10/20\n",
      "23000/23000 [==============================] - 312s 14ms/step - loss: 0.0190 - acc: 0.9935\n",
      "Epoch 11/20\n",
      "23000/23000 [==============================] - 313s 14ms/step - loss: 0.0158 - acc: 0.9950\n",
      "Epoch 12/20\n",
      "23000/23000 [==============================] - 312s 14ms/step - loss: 0.0093 - acc: 0.9976\n",
      "Epoch 13/20\n",
      "23000/23000 [==============================] - 312s 14ms/step - loss: 0.0062 - acc: 0.9983\n",
      "Epoch 14/20\n",
      "23000/23000 [==============================] - 312s 14ms/step - loss: 0.0065 - acc: 0.9978\n",
      "Epoch 15/20\n",
      "23000/23000 [==============================] - 312s 14ms/step - loss: 0.0060 - acc: 0.9981\n",
      "Epoch 16/20\n",
      "23000/23000 [==============================] - 313s 14ms/step - loss: 0.0029 - acc: 0.9992\n",
      "Epoch 17/20\n",
      "23000/23000 [==============================] - 341s 15ms/step - loss: 0.0054 - acc: 0.9982\n",
      "Epoch 18/20\n",
      "23000/23000 [==============================] - 341s 15ms/step - loss: 0.0040 - acc: 0.9987\n",
      "Epoch 19/20\n",
      "23000/23000 [==============================] - 336s 15ms/step - loss: 0.0025 - acc: 0.9993\n",
      "Epoch 20/20\n",
      "23000/23000 [==============================] - 349s 15ms/step - loss: 0.0018 - acc: 0.9995\n"
     ]
    },
    {
     "data": {
      "text/plain": [
       "<keras.callbacks.History at 0x7f8f692c1cf8>"
      ]
     },
     "execution_count": 32,
     "metadata": {},
     "output_type": "execute_result"
    }
   ],
   "source": [
    "model_feat.fit(X_train, y_train, epochs=epochs, batch_size = batch_size)"
   ]
  },
  {
   "cell_type": "code",
   "execution_count": 33,
   "metadata": {},
   "outputs": [],
   "source": [
    "model_feat.save_weights('vgg/model_feat_wieghts.h5')\n",
    "model_feat.save('vgg/model_feat_keras.h5')"
   ]
  },
  {
   "cell_type": "code",
   "execution_count": 36,
   "metadata": {},
   "outputs": [],
   "source": [
    "X_test = X_test.reshape(X_test.shape[0], 1, dims, dims)"
   ]
  },
  {
   "cell_type": "code",
   "execution_count": 37,
   "metadata": {},
   "outputs": [
    {
     "name": "stdout",
     "output_type": "stream",
     "text": [
      "12500/12500 [==============================] - 114s 9ms/step\n"
     ]
    }
   ],
   "source": [
    "prediction_feat = model_feat.predict(X_test, verbose=1)"
   ]
  },
  {
   "cell_type": "code",
   "execution_count": 65,
   "metadata": {},
   "outputs": [
    {
     "name": "stdout",
     "output_type": "stream",
     "text": [
      "2000/2000 [==============================] - 16s 8ms/step\n"
     ]
    }
   ],
   "source": [
    "val_feat = model_feat.predict(X_val, verbose=1)"
   ]
  },
  {
   "cell_type": "code",
   "execution_count": 72,
   "metadata": {},
   "outputs": [],
   "source": [
    "val_score = []\n",
    "val_target = []\n",
    "for val1, val2 in zip(val_feat, y_val):\n",
    "    val_score.append(np.argmax(val1))\n",
    "    val_target.append(np.argmax(val2))\n",
    "val_score = np.array(val_score)\n",
    "val_target = np.array(val_target)"
   ]
  },
  {
   "cell_type": "code",
   "execution_count": 73,
   "metadata": {},
   "outputs": [
    {
     "name": "stdout",
     "output_type": "stream",
     "text": [
      "Accuracy on validation is 98.45 %\n"
     ]
    }
   ],
   "source": [
    "from sklearn.metrics import accuracy_score\n",
    "print(\"Accuracy on validation is\", np.around(accuracy_score(val_target, val_score)*100, 2), \"%\")"
   ]
  },
  {
   "cell_type": "code",
   "execution_count": 93,
   "metadata": {},
   "outputs": [],
   "source": [
    "prediction_feat = prediction_feat.clip(min = 0.005, max = 0.995)"
   ]
  },
  {
   "cell_type": "code",
   "execution_count": 96,
   "metadata": {},
   "outputs": [],
   "source": [
    "pred_sub = prediction_feat[:,0]"
   ]
  },
  {
   "cell_type": "code",
   "execution_count": 97,
   "metadata": {},
   "outputs": [],
   "source": [
    "kaggle_sub = pd.DataFrame({'id': np.arange(1, 12501), 'label': pred_sub})"
   ]
  },
  {
   "cell_type": "code",
   "execution_count": 98,
   "metadata": {},
   "outputs": [],
   "source": [
    "kaggle_sub.to_csv('data/final_sub.csv', index=False)"
   ]
  },
  {
   "cell_type": "markdown",
   "metadata": {},
   "source": [
    "<h4>The kaggle Public score was 2.63624</h4>"
   ]
  },
  {
   "cell_type": "code",
   "execution_count": 107,
   "metadata": {},
   "outputs": [
    {
     "data": {
      "image/png": "[encoded data removed]",
      "text/plain": [
       "<IPython.core.display.Image object>"
      ]
     },
     "execution_count": 107,
     "metadata": {},
     "output_type": "execute_result"
    }
   ],
   "source": [
    "Image(\"score.png\")"
   ]
  }
 ],
 "metadata": {
  "kernelspec": {
   "display_name": "Python 3",
   "language": "python",
   "name": "python3"
  },
  "language_info": {
   "codemirror_mode": {
    "name": "ipython",
    "version": 3
   },
   "file_extension": ".py",
   "mimetype": "text/x-python",
   "name": "python",
   "nbconvert_exporter": "python",
   "pygments_lexer": "ipython3",
   "version": "3.6.8"
  }
 },
 "nbformat": 4,
 "nbformat_minor": 2
}
