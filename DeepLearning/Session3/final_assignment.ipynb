{
 "cells": [
  {
   "cell_type": "markdown",
   "metadata": {},
   "source": [
    "This requires you to write a 2D GAN game. I let you to get into the topic yourself, whitout any explonations from my side. You can watch internet, read papers and tutorials (fun, fun, fun)."
   ]
  },
  {
   "cell_type": "markdown",
   "metadata": {},
   "source": [
    "### Homework"
   ]
  },
  {
   "cell_type": "markdown",
   "metadata": {},
   "source": [
    "I want you to implement a simple 2D GAN game. The kind of animation, I want to see is like in [this video](https://www.youtube.com/watch?v=KeJINHjyzOU&feature=youtu.be&t=15m38s) at 15:36 or in [here](https://habrahabr.ru/post/275429/) **but in 2D**. You can google, search code at github, whatever, but the network should be based on TensoFlow.\n",
    "\n",
    "Basically you will need to come up with true distribution $P$, say mixture of gaussians (surprise me), sample some data from it. Visualize it as a heatmap. To visualize $G$ density you can fix $N$ noise vectors $\\{z_i\\} \\quad i=1,\\dots, N$ and draw a circle for each $G(z_i)$. It is also funny to visualize discriminator as a vector field (can be done with `plt.arrow`, `plt.quiver` plot). Look how it should be in the middle of [this page](http://www.inference.vc/an-alternative-update-rule-for-generative-adversarial-networks/).\n",
    "\n",
    "Please, make sure your code works if 'Run All' is pressed and it draws some animation.\n",
    "\n",
    "Good luck!"
   ]
  },
  {
   "cell_type": "code",
   "execution_count": 1,
   "metadata": {},
   "outputs": [],
   "source": [
    "import tensorflow as tf\n",
    "import numpy as np\n",
    "from matplotlib import pyplot as plt\n",
    "from IPython import display"
   ]
  },
  {
   "cell_type": "code",
   "execution_count": 2,
   "metadata": {},
   "outputs": [],
   "source": [
    "#Generating the data\n",
    "def y_inator(data):\n",
    "    return 100 * np.cos(data/5)\n",
    "def data_inator(amount):\n",
    "    data = []\n",
    "    x = 100*(np.random.random_sample((amount))-0.5)\n",
    "    for i in range(amount):\n",
    "        data.append([x[i], y_inator(x[i])])\n",
    "    return np.array(data)\n",
    "\n",
    "batch_size = 100\n",
    "N = 4200"
   ]
  },
  {
   "cell_type": "code",
   "execution_count": 3,
   "metadata": {},
   "outputs": [],
   "source": [
    "X = tf.placeholder(tf.float32, [None, 2])\n",
    "Y = tf.placeholder(tf.float32, [None, 2])"
   ]
  },
  {
   "cell_type": "code",
   "execution_count": 4,
   "metadata": {},
   "outputs": [],
   "source": [
    "def generator(Y, reuse):\n",
    "    with tf.variable_scope(\"generator\", reuse = reuse):\n",
    "        g1 = tf.layers.dense(Y, 128, activation = tf.nn.leaky_relu)\n",
    "        g2 = tf.layers.dense(g1, 64, activation = tf.nn.leaky_relu)\n",
    "        g3 = tf.layers.dense(g2, 32, activation = tf.nn.leaky_relu)\n",
    "        g4 = tf.layers.dense(g3, 16, activation = tf.nn.leaky_relu)\n",
    "        g5 = tf.layers.dense(g4, 8, activation = tf.nn.leaky_relu)\n",
    "        g0 = tf.layers.dense(g5, 2)\n",
    "    return g0\n",
    "\n",
    "def discriminator(X, reuse):\n",
    "    with tf.variable_scope(\"discriminator\", reuse = reuse):\n",
    "        d1 = tf.layers.dense(X, 128, activation = tf.nn.leaky_relu)\n",
    "        d2 = tf.layers.dense(d1, 64, activation = tf.nn.leaky_relu)\n",
    "        d3 = tf.layers.dense(d2, 32, activation = tf.nn.leaky_relu)\n",
    "        d4 = tf.layers.dense(d3, 16, activation = tf.nn.leaky_relu)\n",
    "        d5 = tf.layers.dense(d4, 8, activation = tf.nn.leaky_relu)\n",
    "        d0 = tf.layers.dense(d5, 2)\n",
    "    return d0"
   ]
  },
  {
   "cell_type": "code",
   "execution_count": 5,
   "metadata": {},
   "outputs": [],
   "source": [
    "sample = generator(Y, reuse = False)\n",
    "logits = discriminator(X, reuse = False)\n",
    "logits_sample = discriminator(sample, reuse = True)"
   ]
  },
  {
   "cell_type": "code",
   "execution_count": 6,
   "metadata": {},
   "outputs": [],
   "source": [
    "#generator loss\n",
    "loss_gen = tf.reduce_mean(tf.nn.sigmoid_cross_entropy_with_logits(logits=logits_sample,\n",
    "                                                                  labels=tf.ones_like(logits_sample)))\n",
    "\n",
    "#discriminator loss\n",
    "loss_disc = tf.reduce_mean(tf.nn.sigmoid_cross_entropy_with_logits(logits=logits,\n",
    "                                                                   labels=tf.ones_like(logits)) \n",
    "                           + tf.nn.sigmoid_cross_entropy_with_logits(logits=logits_sample,\n",
    "                                                                     labels=tf.zeros_like(logits_sample)))"
   ]
  },
  {
   "cell_type": "code",
   "execution_count": 7,
   "metadata": {},
   "outputs": [],
   "source": [
    "#get seperate variables\n",
    "gen_var = tf.get_collection(tf.GraphKeys.GLOBAL_VARIABLES, scope='generator')\n",
    "disc_var = tf.get_collection(tf.GraphKeys.GLOBAL_VARIABLES, scope='discriminator')"
   ]
  },
  {
   "cell_type": "code",
   "execution_count": 8,
   "metadata": {},
   "outputs": [],
   "source": [
    "optimizer = tf.train.AdamOptimizer()\n",
    "gen_op = optimizer.minimize(loss_gen, var_list = gen_var)\n",
    "disc_op = optimizer.minimize(loss_disc, var_list = disc_var)"
   ]
  },
  {
   "cell_type": "code",
   "execution_count": 9,
   "metadata": {},
   "outputs": [
    {
     "data": {
      "image/png": "[encoded data removed]",
      "text/plain": [
       "<Figure size 864x576 with 1 Axes>"
      ]
     },
     "metadata": {
      "needs_background": "light"
     },
     "output_type": "display_data"
    },
    {
     "name": "stdout",
     "output_type": "stream",
     "text": [
      "119800 th iteration\n",
      "The genertor loss is 1.0538253 The genertor loss is 1.1806843\n"
     ]
    }
   ],
   "source": [
    "with tf.Session() as sess:\n",
    "    sess.run(tf.global_variables_initializer())\n",
    "    target = np.random.uniform(-1, 2, (100, 2))\n",
    "    data = data_inator(100)\n",
    "    all_data = data_inator(N)\n",
    "    for i in range(120000):\n",
    "        X_batch = all_data[(i*batch_size)%(N-batch_size):(i*batch_size)%(N-batch_size)+batch_size,:]\n",
    "        Y_batch = np.random.uniform(-1, 2, (batch_size, 2))\n",
    "        _, gen_loss = sess.run([gen_op, loss_gen], feed_dict={Y: Y_batch})\n",
    "        _, disc_loss = sess.run([disc_op, loss_disc], feed_dict={X: X_batch, Y: Y_batch})\n",
    "        \n",
    "        if i%200 == 0:\n",
    "            plt.figure(figsize = (12,8))\n",
    "            display.clear_output(wait=True)            \n",
    "            tar_based_dat = sess.run([sample], {Y: target})[0]\n",
    "            plt.scatter(tar_based_dat.T[0], tar_based_dat.T[1], label = \"fake\", c = 'red', s = 3)\n",
    "            plt.scatter(data.T[0], data.T[1], label = \"real\", c = 'green', s = 3)\n",
    "            axes = plt.gca()\n",
    "            axes.set_xlim([-75,75])\n",
    "            axes.set_ylim([-150,180])\n",
    "            plt.legend();\n",
    "            plt.show()\n",
    "            print(i, \"th iteration\")\n",
    "            print(\"The genertor loss is\", gen_loss, \"The genertor loss is\", disc_loss)"
   ]
  }
 ],
 "metadata": {
  "kernelspec": {
   "display_name": "Python 3",
   "language": "python",
   "name": "python3"
  },
  "language_info": {
   "codemirror_mode": {
    "name": "ipython",
    "version": 3
   },
   "file_extension": ".py",
   "mimetype": "text/x-python",
   "name": "python",
   "nbconvert_exporter": "python",
   "pygments_lexer": "ipython3",
   "version": "3.6.8"
  }
 },
 "nbformat": 4,
 "nbformat_minor": 2
}
